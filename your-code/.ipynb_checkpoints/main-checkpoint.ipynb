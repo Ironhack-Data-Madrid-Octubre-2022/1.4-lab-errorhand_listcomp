{
 "cells": [
  {
   "cell_type": "markdown",
   "id": "2634c1ae",
   "metadata": {},
   "source": [
    "**Example:**\n",
    "\n",
    "eggs = (1,3,8,3,2)\n",
    "\n",
    "my_listComprehension = [1/egg for egg in eggs]\n",
    "\n",
    "print(my_listComprehension)\n"
   ]
  },
  {
   "cell_type": "markdown",
   "id": "d45207bf",
   "metadata": {},
   "source": [
    "# Insert here the module/library import statements "
   ]
  },
  {
   "cell_type": "code",
   "execution_count": 23,
   "id": "2d744fe5",
   "metadata": {},
   "outputs": [],
   "source": [
    "import math\n",
    "import random\n",
    "import re\n",
    "import sys"
   ]
  },
  {
   "cell_type": "markdown",
   "id": "e6516616",
   "metadata": {},
   "source": [
    "\n",
    "# Calculate the square number of the first 20 numbers. Use square as the name of the list.\n",
    "Remember to use list comprehensions and to print your results"
   ]
  },
  {
   "cell_type": "markdown",
   "id": "ec83b87e",
   "metadata": {},
   "source": []
  },
  {
   "cell_type": "code",
   "execution_count": 2,
   "id": "e9e2051b",
   "metadata": {},
   "outputs": [
    {
     "name": "stdout",
     "output_type": "stream",
     "text": [
      "[0, 1, 4, 9, 16, 25, 36, 49, 64, 81, 100, 121, 144, 169, 196, 225, 256, 289, 324, 361]\n"
     ]
    }
   ],
   "source": [
    "square = [x*x for x in range(20)]\n",
    "\n",
    "    \n",
    "print(square)"
   ]
  },
  {
   "cell_type": "markdown",
   "id": "a161d269",
   "metadata": {},
   "source": [
    "# Calculate the square root of the first 100 numbers. Use sqrt as the name of the list.\n",
    "You will probably need to install math library with pip and import it in this file.\n",
    "\n",
    "Remember to use list comprehensions and to print your results\n"
   ]
  },
  {
   "cell_type": "code",
   "execution_count": 3,
   "id": "e01488ea",
   "metadata": {},
   "outputs": [
    {
     "name": "stdout",
     "output_type": "stream",
     "text": [
      "[0.0, 1.0, 1.4142135623730951, 1.7320508075688772, 2.0, 2.23606797749979, 2.449489742783178, 2.6457513110645907, 2.8284271247461903, 3.0, 3.1622776601683795, 3.3166247903554, 3.4641016151377544, 3.605551275463989, 3.7416573867739413, 3.872983346207417, 4.0, 4.123105625617661, 4.242640687119285, 4.358898943540674, 4.47213595499958, 4.58257569495584, 4.69041575982343, 4.795831523312719, 4.898979485566356, 5.0, 5.0990195135927845, 5.196152422706632, 5.291502622129181, 5.385164807134504, 5.477225575051661, 5.5677643628300215, 5.656854249492381, 5.744562646538029, 5.830951894845301, 5.916079783099616, 6.0, 6.082762530298219, 6.164414002968976, 6.244997998398398, 6.324555320336759, 6.4031242374328485, 6.48074069840786, 6.557438524302, 6.6332495807108, 6.708203932499369, 6.782329983125268, 6.855654600401044, 6.928203230275509, 7.0, 7.0710678118654755, 7.14142842854285, 7.211102550927978, 7.280109889280518, 7.3484692283495345, 7.416198487095663, 7.483314773547883, 7.54983443527075, 7.615773105863909, 7.681145747868608, 7.745966692414834, 7.810249675906654, 7.874007874011811, 7.937253933193772, 8.0, 8.06225774829855, 8.12403840463596, 8.18535277187245, 8.246211251235321, 8.306623862918075, 8.366600265340756, 8.426149773176359, 8.48528137423857, 8.54400374531753, 8.602325267042627, 8.660254037844387, 8.717797887081348, 8.774964387392123, 8.831760866327848, 8.888194417315589, 8.94427190999916, 9.0, 9.055385138137417, 9.1104335791443, 9.16515138991168, 9.219544457292887, 9.273618495495704, 9.327379053088816, 9.38083151964686, 9.433981132056603, 9.486832980505138, 9.539392014169456, 9.591663046625438, 9.643650760992955, 9.695359714832659, 9.746794344808963, 9.797958971132712, 9.848857801796104, 9.899494936611665, 9.9498743710662]\n"
     ]
    }
   ],
   "source": [
    "sqrt = [math.sqrt(x) for x in range(100)]\n",
    "    \n",
    "print(sqrt)"
   ]
  },
  {
   "cell_type": "markdown",
   "id": "3c26b67d",
   "metadata": {},
   "source": [
    "\n",
    "# Create this list [-10,-9,-8,-7,-6,-5,-4,-3,-2,-1,0]. Use my_list as the name of the list.\n",
    "Remember to use list comprehensions and to print your results"
   ]
  },
  {
   "cell_type": "code",
   "execution_count": 4,
   "id": "01889396",
   "metadata": {},
   "outputs": [
    {
     "name": "stdout",
     "output_type": "stream",
     "text": [
      "[-10, -9, -8, -7, -6, -5, -4, -3, -2, -1, 0]\n"
     ]
    }
   ],
   "source": [
    "my_list = [i for i in range(-10, 1)]\n",
    "\n",
    "print(my_list)"
   ]
  },
  {
   "cell_type": "markdown",
   "id": "13097173",
   "metadata": {},
   "source": [
    "\n",
    "# Find the odd numbers from 1-100. Use odds as the name of the list. \n",
    "Remember to use list comprehensions and to print your results"
   ]
  },
  {
   "cell_type": "code",
   "execution_count": 5,
   "id": "1a3cf84a",
   "metadata": {},
   "outputs": [
    {
     "name": "stdout",
     "output_type": "stream",
     "text": [
      "[0, 2, 4, 6, 8, 10, 12, 14, 16, 18, 20, 22, 24, 26, 28, 30, 32, 34, 36, 38, 40, 42, 44, 46, 48, 50, 52, 54, 56, 58, 60, 62, 64, 66, 68, 70, 72, 74, 76, 78, 80, 82, 84, 86, 88, 90, 92, 94, 96, 98, 100]\n"
     ]
    }
   ],
   "source": [
    "odds = [i for i in range(101) if i%2==0]\n",
    "print(odds)"
   ]
  },
  {
   "cell_type": "markdown",
   "id": "cbaa63ea",
   "metadata": {},
   "source": [
    "# Find all of the numbers from 1-1000 that are divisible by 7. Use divisible_by_seven as the name of the list.\n",
    "Remember to use list comprehensions and to print your results"
   ]
  },
  {
   "cell_type": "code",
   "execution_count": 6,
   "id": "222bf7b2",
   "metadata": {},
   "outputs": [
    {
     "name": "stdout",
     "output_type": "stream",
     "text": [
      "[0, 7, 14, 21, 28, 35, 42, 49, 56, 63, 70, 77, 84, 91, 98, 105, 112, 119, 126, 133, 140, 147, 154, 161, 168, 175, 182, 189, 196, 203, 210, 217, 224, 231, 238, 245, 252, 259, 266, 273, 280, 287, 294, 301, 308, 315, 322, 329, 336, 343, 350, 357, 364, 371, 378, 385, 392, 399, 406, 413, 420, 427, 434, 441, 448, 455, 462, 469, 476, 483, 490, 497, 504, 511, 518, 525, 532, 539, 546, 553, 560, 567, 574, 581, 588, 595, 602, 609, 616, 623, 630, 637, 644, 651, 658, 665, 672, 679, 686, 693, 700, 707, 714, 721, 728, 735, 742, 749, 756, 763, 770, 777, 784, 791, 798, 805, 812, 819, 826, 833, 840, 847, 854, 861, 868, 875, 882, 889, 896, 903, 910, 917, 924, 931, 938, 945, 952, 959, 966, 973, 980, 987, 994]\n"
     ]
    }
   ],
   "source": [
    "divisible_by_seven = [i for i in range(1000) if i%7==0]\n",
    "print(divisible_by_seven)"
   ]
  },
  {
   "cell_type": "markdown",
   "id": "712e640c",
   "metadata": {},
   "source": [
    "# Remove all of the vowels in a string. Hint: make a list of the non-vowels. Use non_vowels as the name of the list.\n",
    "Remember to use list comprehensions and to print your results"
   ]
  },
  {
   "cell_type": "code",
   "execution_count": 52,
   "id": "55740dde",
   "metadata": {},
   "outputs": [
    {
     "name": "stdout",
     "output_type": "stream",
     "text": [
      "Fnd ll f th wrds n  strng tht r mnsyllbc\n"
     ]
    }
   ],
   "source": [
    "# You can use the following test string but feel free to modify at your convenience\n",
    "\n",
    "teststring = 'Find all of the words in a string that are monosyllabic'\n",
    "vocales = ['a', 'e', 'i', 'o', 'u']\n",
    "#teststring = teststring.lower()\n",
    "non_vowels = ''.join([e for e in teststring if e not in vocales])\n",
    "\n",
    "print(non_vowels)"
   ]
  },
  {
   "cell_type": "markdown",
   "id": "5a28a022",
   "metadata": {},
   "source": [
    "# Find the capital letters (and not white space) in the sentence 'The Quick Brown Fox Jumped Over The Lazy Dog'. \n",
    "- **Use capital_letters as the name of the list.**\n",
    "\n",
    "Remember to use list comprehensions and to print your results"
   ]
  },
  {
   "cell_type": "code",
   "execution_count": 8,
   "id": "24216f7f",
   "metadata": {},
   "outputs": [
    {
     "name": "stdout",
     "output_type": "stream",
     "text": [
      "['T', 'Q', 'B', 'F', 'J', 'O', 'T', 'L', 'D']\n"
     ]
    }
   ],
   "source": [
    "capital_letters = []\n",
    "frase = 'The Quick Brown Fox Jumped Over The Lazy Dog'\n",
    "capital_letters = re.findall(r\"[A-Z]\", frase)\n",
    "     \n",
    "print(capital_letters)"
   ]
  },
  {
   "cell_type": "markdown",
   "id": "06c557e4",
   "metadata": {},
   "source": [
    "# Find all the consonants in the sentence 'The quick brown fox jumped over the lazy dog'.\n",
    " - **Use consonants as the name of the list.**\n",
    " \n",
    "Remember to use list comprehensions and to print your results.\n"
   ]
  },
  {
   "cell_type": "code",
   "execution_count": 9,
   "id": "366e7b88",
   "metadata": {},
   "outputs": [
    {
     "name": "stdout",
     "output_type": "stream",
     "text": [
      "['t', 'h', 'q', 'c', 'k', 'b', 'r', 'w', 'n', 'f', 'x', 'j', 'm', 'p', 'd', 'v', 'r', 't', 'h', 'l', 'y', 'd', 'g']\n"
     ]
    }
   ],
   "source": [
    "consonants = []\n",
    "frase = 'The quick brown fox jumped over the lazy dog'\n",
    "consonants = re.findall('[bcdfghjklmnpqrstvwxys]', frase.lower())\n",
    "print(consonants)"
   ]
  },
  {
   "cell_type": "markdown",
   "id": "414b6706",
   "metadata": {},
   "source": [
    "# Find the folders you have in your madrid-oct-2018 local repo. Use files as name of the list.  \n",
    "\n",
    "**Hint: You will probably need to import os library and some of its modules. You will need to make some online research.**\n",
    "\n",
    "Remember to use list comprehensions and to print your results."
   ]
  },
  {
   "cell_type": "code",
   "execution_count": 10,
   "id": "7ff7674f",
   "metadata": {},
   "outputs": [],
   "source": [
    "#no"
   ]
  },
  {
   "cell_type": "markdown",
   "id": "e7d06271",
   "metadata": {},
   "source": [
    "# Create 4 lists of 10 random numbers between 0 and 100 each. Use random_lists as the name of the list. \n",
    "**Hint: You will probably need to import random module**\n",
    "\n",
    "Remember to use list comprehensions and to print your results"
   ]
  },
  {
   "cell_type": "code",
   "execution_count": 49,
   "id": "ccf394a7",
   "metadata": {},
   "outputs": [
    {
     "name": "stdout",
     "output_type": "stream",
     "text": [
      "[[39, 71, 90, 93, 82, 79, 16, 97, 67, 53], [13, 69, 17, 36, 5, 89, 34, 18, 37, 2], [4, 14, 74, 83, 7, 45, 28, 29, 24, 20], [70, 34, 19, 24, 45, 89, 72, 49, 5, 65]]\n"
     ]
    }
   ],
   "source": [
    "random_lists = [random.sample(range(100), 10) for x in range(4)]\n",
    "\n",
    "print(random_lists)"
   ]
  },
  {
   "cell_type": "markdown",
   "id": "db0c69bf",
   "metadata": {},
   "source": [
    "# Flatten the following list of lists. Use flatten_list as the name of the output.\n",
    "\n",
    "Remember to use list comprehensions and to print your results\n"
   ]
  },
  {
   "cell_type": "code",
   "execution_count": 12,
   "id": "84ef115b",
   "metadata": {},
   "outputs": [],
   "source": [
    "list_of_lists = [[1,2,3],[4,5,6],[7,8,9]]\n",
    "flatten_list = sum(list_of_lists, [])"
   ]
  },
  {
   "cell_type": "code",
   "execution_count": 13,
   "id": "8239413d",
   "metadata": {},
   "outputs": [
    {
     "name": "stdout",
     "output_type": "stream",
     "text": [
      "[1, 2, 3, 4, 5, 6, 7, 8, 9]\n"
     ]
    }
   ],
   "source": [
    "print(flatten_list)"
   ]
  },
  {
   "cell_type": "markdown",
   "id": "6d47158b",
   "metadata": {},
   "source": [
    "\n",
    "# Convert the numbers of the following nested list to floats. Use floats as the name of the list. \n",
    "\n",
    "Remember to use list comprehensions and to print your results."
   ]
  },
  {
   "cell_type": "code",
   "execution_count": 14,
   "id": "da550a1f",
   "metadata": {},
   "outputs": [],
   "source": [
    "list_of_lists = [['40', '20', '10', '30'], ['20', '20', '20', '20', '20', '30', '20'], \\\n",
    "['30', '20', '30', '50', '10', '30', '20', '20', '20'], ['100', '100'], ['100', '100', '100', '100', '100'], \\\n",
    "['100', '100', '100', '100']]\n"
   ]
  },
  {
   "cell_type": "code",
   "execution_count": 15,
   "id": "3bae94e3",
   "metadata": {},
   "outputs": [
    {
     "name": "stdout",
     "output_type": "stream",
     "text": [
      "[[40.0, 20.0, 10.0, 30.0], [20.0, 20.0, 20.0, 20.0, 20.0, 30.0, 20.0], [30.0, 20.0, 30.0, 50.0, 10.0, 30.0, 20.0, 20.0, 20.0], [100.0, 100.0], [100.0, 100.0, 100.0, 100.0, 100.0], [100.0, 100.0, 100.0, 100.0]]\n"
     ]
    }
   ],
   "source": [
    "floats = [[float(j) for j in i] for i in list_of_lists]\n",
    "\n",
    "print(floats)"
   ]
  },
  {
   "cell_type": "markdown",
   "id": "6d5e96d5",
   "metadata": {},
   "source": [
    "# Handle the exception thrown by the code below by using try and except blocks. \n"
   ]
  },
  {
   "cell_type": "code",
   "execution_count": 35,
   "id": "e523b861",
   "metadata": {},
   "outputs": [
    {
     "name": "stdout",
     "output_type": "stream",
     "text": [
      "Son letras!!\n"
     ]
    }
   ],
   "source": [
    "try:\n",
    "    for i in ['a','b','c']:\n",
    "        print(i**2)\n",
    "except:\n",
    "    print('Son letras!!')"
   ]
  },
  {
   "cell_type": "markdown",
   "id": "ab1538ea",
   "metadata": {},
   "source": [
    "# Handle the exception thrown by the code below by using try and except blocks. \n",
    "\n",
    "Then use a finally block to print 'All Done.'\n",
    "\n",
    "Check in provided resources the type of error you may use. \n"
   ]
  },
  {
   "cell_type": "code",
   "execution_count": 27,
   "id": "a50f209e",
   "metadata": {},
   "outputs": [
    {
     "name": "stdout",
     "output_type": "stream",
     "text": [
      "opppsss\n",
      "(<class 'ZeroDivisionError'>, ZeroDivisionError('division by zero',), <traceback object at 0x000002B131018808>)\n",
      "All Done\n"
     ]
    }
   ],
   "source": [
    "try:\n",
    "    x = 5\n",
    "    y = 0\n",
    "\n",
    "    z = x/y\n",
    "except:\n",
    "    print('opppsss')\n",
    "    print(sys.exc_info())\n",
    "finally:\n",
    "    print('All Done')"
   ]
  },
  {
   "cell_type": "code",
   "execution_count": null,
   "id": "b12e8813",
   "metadata": {},
   "outputs": [],
   "source": []
  },
  {
   "cell_type": "markdown",
   "id": "bab88c51",
   "metadata": {},
   "source": [
    "# Handle the exception thrown by the code below by using try and except blocks. \n",
    "\n",
    "Check in provided resources the type of error you may use. \n"
   ]
  },
  {
   "cell_type": "code",
   "execution_count": 29,
   "id": "b445c652",
   "metadata": {},
   "outputs": [
    {
     "name": "stdout",
     "output_type": "stream",
     "text": [
      "ERROR (<class 'IndexError'>, IndexError('list index out of range',), <traceback object at 0x000002B13108A5C8>)\n"
     ]
    }
   ],
   "source": [
    "try:\n",
    "    abc=[10,20,20]\n",
    "    print(abc[3])\n",
    "except:\n",
    "    print('ERROR', sys.exc_info())"
   ]
  },
  {
   "cell_type": "code",
   "execution_count": null,
   "id": "d87c0c42",
   "metadata": {},
   "outputs": [],
   "source": []
  },
  {
   "cell_type": "markdown",
   "id": "3781292c",
   "metadata": {},
   "source": [
    "# Handle at least two kind of different exceptions when dividing a couple of numbers provided by the user. \n",
    "\n",
    "**Hint: take a look on python input function.**\n",
    "\n",
    "Check in provided resources the type of error you may use. "
   ]
  },
  {
   "cell_type": "code",
   "execution_count": 56,
   "id": "b9c415cf",
   "metadata": {},
   "outputs": [
    {
     "name": "stdout",
     "output_type": "stream",
     "text": [
      "3\n",
      "0\n",
      "ERROR (<class 'ZeroDivisionError'>, ZeroDivisionError('division by zero',), <traceback object at 0x000002B1310CD0C8>)\n"
     ]
    }
   ],
   "source": [
    "try:\n",
    "    x = int(input())\n",
    "    y = int(input())\n",
    "    print(x/y)\n",
    "except:\n",
    "    print('ERROR', sys.exc_info())"
   ]
  },
  {
   "cell_type": "markdown",
   "id": "278c6c56",
   "metadata": {},
   "source": [
    "# Handle the exception thrown by the code below by using try and except blocks. \n",
    "\n",
    "Check in provided resources the type of error you may use. "
   ]
  },
  {
   "cell_type": "code",
   "execution_count": 31,
   "id": "344b49f1",
   "metadata": {},
   "outputs": [
    {
     "name": "stdout",
     "output_type": "stream",
     "text": [
      "ERROR (<class 'FileNotFoundError'>, FileNotFoundError(2, 'No such file or directory'), <traceback object at 0x000002B13108AD08>)\n"
     ]
    }
   ],
   "source": [
    "try:\n",
    "    f = open('testfile','r')\n",
    "    f.write('Test write this')\n",
    "except:\n",
    "    print('ERROR', sys.exc_info())"
   ]
  },
  {
   "cell_type": "code",
   "execution_count": null,
   "id": "9134d253",
   "metadata": {},
   "outputs": [],
   "source": []
  },
  {
   "cell_type": "markdown",
   "id": "f2370489",
   "metadata": {},
   "source": [
    "# Handle the exceptions that can be thrown by the code below using try and except blocks. \n",
    "\n",
    "**Hint: the file could not exist and the data could not be convertable to int**"
   ]
  },
  {
   "cell_type": "code",
   "execution_count": 45,
   "id": "744b2215",
   "metadata": {},
   "outputs": [
    {
     "name": "stdout",
     "output_type": "stream",
     "text": [
      "ERROR (<class 'FileNotFoundError'>, FileNotFoundError(2, 'No such file or directory'), <traceback object at 0x000002B131050A48>)\n"
     ]
    }
   ],
   "source": [
    "try:\n",
    "    fp = open('myfile.txt', 'r')\n",
    "    \n",
    "    line = f.readline()\n",
    "    i = int(s.strip())\n",
    "except:\n",
    "    print('ERROR', sys.exc_info())\n"
   ]
  },
  {
   "cell_type": "markdown",
   "id": "d70704df",
   "metadata": {},
   "source": [
    "# The following function can only run on a Linux system. \n",
    "The assert in this function will throw an exception if you call it on an operating system other than Linux.\n",
    "\n",
    "Handle this exception using **try and except** blocks.\n",
    "\n",
    "You will probably need to import sys "
   ]
  },
  {
   "cell_type": "code",
   "execution_count": null,
   "id": "590ca65f",
   "metadata": {},
   "outputs": [],
   "source": [
    "def linux_interaction():\n",
    "    assert ('linux' in sys.platform), \"Function can only run on Linux systems.\"\n",
    "    print('Doing something.')\n",
    "linux_interaction()"
   ]
  },
  {
   "cell_type": "code",
   "execution_count": null,
   "id": "cdbd2616",
   "metadata": {},
   "outputs": [],
   "source": []
  },
  {
   "cell_type": "markdown",
   "id": "48cf2fd9",
   "metadata": {},
   "source": [
    "\n",
    "# Bonus Questions:"
   ]
  },
  {
   "cell_type": "markdown",
   "id": "c6594693",
   "metadata": {},
   "source": [
    "You will need to make some research on dictionary comprehension to solve the following questions"
   ]
  },
  {
   "cell_type": "markdown",
   "id": "5055c0ce",
   "metadata": {},
   "source": [
    "## Write a function that asks for an integer and prints the square of it. \n",
    "\n",
    "**Hint: we need to continually keep checking until we get an integer.**\n",
    "\n",
    "Use a while loop with a try,except, else block to account for incorrect inputs."
   ]
  },
  {
   "cell_type": "code",
   "execution_count": null,
   "id": "cf2ee034",
   "metadata": {},
   "outputs": [],
   "source": []
  },
  {
   "cell_type": "markdown",
   "id": "38c60f86",
   "metadata": {},
   "source": [
    "\n",
    "## Find all of the numbers from 1-1000 that are divisible by any single digit besides 1 (2-9). \n",
    "\n",
    "Use results as the name of the list \n"
   ]
  },
  {
   "cell_type": "code",
   "execution_count": null,
   "id": "cda7dc45",
   "metadata": {},
   "outputs": [],
   "source": []
  },
  {
   "cell_type": "markdown",
   "id": "a7c756e9",
   "metadata": {},
   "source": [
    "## Define a customised exception to handle not accepted values. \n",
    "\n",
    "You have the following user inputs and the Num_of_sections can not be less than 2.\n",
    "\n",
    "**Hint: Create a class derived from the pre-defined Exception class in Python**"
   ]
  },
  {
   "cell_type": "code",
   "execution_count": null,
   "id": "9c8c94d9",
   "metadata": {},
   "outputs": [],
   "source": [
    "Total_Marks = int(input(\"Enter Total Marks Scored: \")) \n",
    "Num_of_Sections = int(input(\"Enter Num of Sections: \"))"
   ]
  },
  {
   "cell_type": "code",
   "execution_count": null,
   "id": "01e64a01",
   "metadata": {},
   "outputs": [],
   "source": []
  }
 ],
 "metadata": {
  "kernelspec": {
   "display_name": "Python 3",
   "language": "python",
   "name": "python3"
  },
  "language_info": {
   "codemirror_mode": {
    "name": "ipython",
    "version": 3
   },
   "file_extension": ".py",
   "mimetype": "text/x-python",
   "name": "python",
   "nbconvert_exporter": "python",
   "pygments_lexer": "ipython3",
   "version": "3.5.6"
  },
  "toc": {
   "base_numbering": 1,
   "nav_menu": {},
   "number_sections": true,
   "sideBar": true,
   "skip_h1_title": false,
   "title_cell": "Table of Contents",
   "title_sidebar": "Contents",
   "toc_cell": false,
   "toc_position": {},
   "toc_section_display": true,
   "toc_window_display": false
  }
 },
 "nbformat": 4,
 "nbformat_minor": 5
}
